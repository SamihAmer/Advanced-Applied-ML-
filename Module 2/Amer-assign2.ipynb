{
 "cells": [
  {
   "cell_type": "markdown",
   "metadata": {},
   "source": [
    "# Assingment 2: Explainable AI and Hyperparameter Optimization\n",
    "\n",
    "Samih Amer"
   ]
  },
  {
   "cell_type": "code",
   "execution_count": 1,
   "metadata": {},
   "outputs": [],
   "source": [
    "%matplotlib inline \n",
    "import matplotlib.pyplot as plt\n",
    "plt.rcParams[\"figure.dpi\"] = 72\n",
    "import numpy as np\n",
    "import pandas as pd, re\n",
    "import re\n",
    "from collections import defaultdict\n",
    "from numpy.linalg import norm\n",
    "from scipy.spatial.distance import cosine \n",
    "from scipy.stats import pearsonr\n",
    "from sklearn.metrics.pairwise import cosine_similarity\n",
    "import seaborn as sns\n",
    "from sklearn.feature_extraction.text import TfidfVectorizer\n",
    "from sklearn.cluster import KMeans\n",
    "from sklearn.decomposition import PCA\n",
    "from sklearn.preprocessing import StandardScaler\n",
    "import gzip, io\n",
    "from sklearn.preprocessing import normalize\n",
    "from sklearn.preprocessing import LabelEncoder\n",
    "from sklearn.metrics import adjusted_rand_score"
   ]
  },
  {
   "cell_type": "code",
   "execution_count": 2,
   "metadata": {},
   "outputs": [],
   "source": [
    "df_movies = pd.read_csv(r'/Users/samihamer/Desktop/Advanced Applied AI Summer 2025/Module 2/movielens/movielens_movie.csv')\n",
    "df_ratings = pd.read_csv(r'/Users/samihamer/Desktop/Advanced Applied AI Summer 2025/Module 2/movielens/movielens_rating.csv')\n",
    "\n",
    "tags = pd.read_csv(r'/Users/samihamer/Desktop/Advanced Applied AI Summer 2025/Module 2/movielens/movielens_genome_tags.csv')\n",
    "scores =  pd.read_csv(r'/Users/samihamer/Desktop/Advanced Applied AI Summer 2025/Module 2/movielens/movielens_genome_scores.csv')\n",
    "\n",
    "genres_df = df_movies[['movieId', 'genres']].copy()"
   ]
  },
  {
   "cell_type": "markdown",
   "metadata": {},
   "source": [
    "## Problem 1 - Rework the movielens dataset to determine a set of 19 tags that explains one of the 19 Genres while having an inert relation with the rest of the genres"
   ]
  },
  {
   "cell_type": "code",
   "execution_count": 3,
   "metadata": {},
   "outputs": [],
   "source": [
    "GENRES = ['Action','Adventure','Animation',\"Children\",'Comedy','Crime',\n",
    "          'Documentary','Drama','Fantasy','Film-Noir','Horror','Musical',\n",
    "          'Mystery','Romance','Sci-Fi','Thriller','War','Western','IMAX']\n",
    "\n",
    "genres_df['genres'] = genres_df['genres'].fillna('')          \n",
    "genres_df = genres_df[genres_df['genres'].str.contains('|'.join(GENRES))]"
   ]
  },
  {
   "cell_type": "markdown",
   "metadata": {},
   "source": [
    "Explode genre list -> one row per (movie, genre)"
   ]
  },
  {
   "cell_type": "code",
   "execution_count": 4,
   "metadata": {},
   "outputs": [],
   "source": [
    "gexpl = (genres_df.assign(genres=genres_df['genres'].str.split('|'))\n",
    "                    .explode('genres')\n",
    "                    .query(\"genres in @GENRES\"))"
   ]
  },
  {
   "cell_type": "markdown",
   "metadata": {},
   "source": [
    "Merge relevance scores with exploded genres"
   ]
  },
  {
   "cell_type": "code",
   "execution_count": 5,
   "metadata": {},
   "outputs": [],
   "source": [
    "merge = gexpl[['movieId','genres']].merge(scores, on='movieId', how='inner')\n",
    "merge = merge.merge(tags, on='tagId', how='left')"
   ]
  },
  {
   "cell_type": "markdown",
   "metadata": {},
   "source": [
    "Sum relevance per (genre, tag)"
   ]
  },
  {
   "cell_type": "code",
   "execution_count": 6,
   "metadata": {},
   "outputs": [],
   "source": [
    "grp = merge.groupby(['genres','tag']).agg(rel_sum=('relevance','sum'))"
   ]
  },
  {
   "cell_type": "markdown",
   "metadata": {},
   "source": [
    "Probability P(tag|genre) ~ relevance_sum / total_relevance_in_genre"
   ]
  },
  {
   "cell_type": "code",
   "execution_count": 7,
   "metadata": {},
   "outputs": [],
   "source": [
    "tot = grp.groupby(level=0)['rel_sum'].transform('sum')\n",
    "p_tag_genre = grp['rel_sum'] / tot"
   ]
  },
  {
   "cell_type": "code",
   "execution_count": 8,
   "metadata": {},
   "outputs": [],
   "source": [
    "p_tag_all   = (merge.groupby('tag')['relevance'].sum() /\n",
    "               merge['relevance'].sum())\n",
    "p_tag_other = lambda g: ( (merge[merge['genres']!=g]\n",
    "                           .groupby('tag')['relevance']\n",
    "                           .sum()) /\n",
    "                         merge[merge['genres']!=g]['relevance'].sum() )"
   ]
  },
  {
   "cell_type": "markdown",
   "metadata": {},
   "source": [
    "Pick best tag per genre"
   ]
  },
  {
   "cell_type": "code",
   "execution_count": 9,
   "metadata": {},
   "outputs": [],
   "source": [
    "best_tags = {}\n",
    "norm = lambda s: re.sub(r'[^a-z]', '', s.lower())   # letters only\n",
    "\n",
    "for g in GENRES:\n",
    "    s = p_tag_genre.xs(g) - p_tag_other(g)          # score\n",
    "    g_norm = norm(g)\n",
    "\n",
    "    for tag in s.sort_values(ascending=False).index:\n",
    "        if g_norm not in norm(tag):                 # strict check for not using the genre name as a tag\n",
    "            best_tags[g] = tag\n",
    "            break"
   ]
  },
  {
   "cell_type": "code",
   "execution_count": 10,
   "metadata": {},
   "outputs": [
    {
     "data": {
      "text/html": [
       "<div>\n",
       "<style scoped>\n",
       "    .dataframe tbody tr th:only-of-type {\n",
       "        vertical-align: middle;\n",
       "    }\n",
       "\n",
       "    .dataframe tbody tr th {\n",
       "        vertical-align: top;\n",
       "    }\n",
       "\n",
       "    .dataframe thead th {\n",
       "        text-align: right;\n",
       "    }\n",
       "</style>\n",
       "<table border=\"1\" class=\"dataframe\">\n",
       "  <thead>\n",
       "    <tr style=\"text-align: right;\">\n",
       "      <th></th>\n",
       "      <th>Representative tag</th>\n",
       "    </tr>\n",
       "    <tr>\n",
       "      <th>Genre</th>\n",
       "      <th></th>\n",
       "    </tr>\n",
       "  </thead>\n",
       "  <tbody>\n",
       "    <tr>\n",
       "      <th>Action</th>\n",
       "      <td>fight scenes</td>\n",
       "    </tr>\n",
       "    <tr>\n",
       "      <th>Adventure</th>\n",
       "      <td>action</td>\n",
       "    </tr>\n",
       "    <tr>\n",
       "      <th>Animation</th>\n",
       "      <td>animated</td>\n",
       "    </tr>\n",
       "    <tr>\n",
       "      <th>Children</th>\n",
       "      <td>kids</td>\n",
       "    </tr>\n",
       "    <tr>\n",
       "      <th>Comedy</th>\n",
       "      <td>funny</td>\n",
       "    </tr>\n",
       "    <tr>\n",
       "      <th>Crime</th>\n",
       "      <td>murder</td>\n",
       "    </tr>\n",
       "    <tr>\n",
       "      <th>Documentary</th>\n",
       "      <td>politics</td>\n",
       "    </tr>\n",
       "    <tr>\n",
       "      <th>Drama</th>\n",
       "      <td>intimate</td>\n",
       "    </tr>\n",
       "    <tr>\n",
       "      <th>Fantasy</th>\n",
       "      <td>magic</td>\n",
       "    </tr>\n",
       "    <tr>\n",
       "      <th>Film-Noir</th>\n",
       "      <td>noir</td>\n",
       "    </tr>\n",
       "    <tr>\n",
       "      <th>Horror</th>\n",
       "      <td>splatter</td>\n",
       "    </tr>\n",
       "    <tr>\n",
       "      <th>Musical</th>\n",
       "      <td>music</td>\n",
       "    </tr>\n",
       "    <tr>\n",
       "      <th>Mystery</th>\n",
       "      <td>investigation</td>\n",
       "    </tr>\n",
       "    <tr>\n",
       "      <th>Romance</th>\n",
       "      <td>romantic</td>\n",
       "    </tr>\n",
       "    <tr>\n",
       "      <th>Sci-Fi</th>\n",
       "      <td>science fiction</td>\n",
       "    </tr>\n",
       "    <tr>\n",
       "      <th>Thriller</th>\n",
       "      <td>suspense</td>\n",
       "    </tr>\n",
       "    <tr>\n",
       "      <th>War</th>\n",
       "      <td>wwii</td>\n",
       "    </tr>\n",
       "    <tr>\n",
       "      <th>Western</th>\n",
       "      <td>gunfight</td>\n",
       "    </tr>\n",
       "    <tr>\n",
       "      <th>IMAX</th>\n",
       "      <td>cgi</td>\n",
       "    </tr>\n",
       "  </tbody>\n",
       "</table>\n",
       "</div>"
      ],
      "text/plain": [
       "            Representative tag\n",
       "Genre                         \n",
       "Action            fight scenes\n",
       "Adventure               action\n",
       "Animation             animated\n",
       "Children                  kids\n",
       "Comedy                   funny\n",
       "Crime                   murder\n",
       "Documentary           politics\n",
       "Drama                 intimate\n",
       "Fantasy                  magic\n",
       "Film-Noir                 noir\n",
       "Horror                splatter\n",
       "Musical                  music\n",
       "Mystery          investigation\n",
       "Romance               romantic\n",
       "Sci-Fi         science fiction\n",
       "Thriller              suspense\n",
       "War                       wwii\n",
       "Western               gunfight\n",
       "IMAX                       cgi"
      ]
     },
     "metadata": {},
     "output_type": "display_data"
    }
   ],
   "source": [
    "best = pd.Series(best_tags).rename_axis('Genre').to_frame('Representative tag')\n",
    "display(best)"
   ]
  },
  {
   "cell_type": "markdown",
   "metadata": {},
   "source": [
    "## Problem 2: Build a model for the MNIST dataset. Use LIME image explainer to find our how digits are predicted. Plot one good explanation figure for every figure 0 to 9 "
   ]
  },
  {
   "cell_type": "code",
   "execution_count": 11,
   "metadata": {},
   "outputs": [],
   "source": [
    "from pathlib import Path\n",
    "import gzip, struct\n",
    "import numpy as np\n",
    "import torch, torch.nn as nn\n",
    "from torch.utils.data import Dataset, DataLoader, random_split\n",
    "from torchvision.transforms import ToTensor, Lambda\n",
    "from lime.lime_image import LimeImageExplainer\n",
    "from skimage.color import gray2rgb\n",
    "from skimage.segmentation import mark_boundaries\n",
    "import matplotlib.pyplot as plt\n",
    "from tqdm import tqdm"
   ]
  },
  {
   "cell_type": "code",
   "execution_count": 12,
   "metadata": {},
   "outputs": [],
   "source": [
    "DATA_DIR = '/Users/samihamer/Desktop/Advanced Applied AI Summer 2025/Module 2/MNIST/raw'\n",
    "EPOCHS = 10\n",
    "BATCH = 128\n",
    "DEVICE = \"cuda\" if torch.cuda.is_available() else \"cpu\""
   ]
  },
  {
   "cell_type": "code",
   "execution_count": 13,
   "metadata": {},
   "outputs": [],
   "source": [
    "def read_idx(fname: Path) -> np.ndarray:\n",
    "    with open(fname, 'rb') as f:\n",
    "        magic, num = struct.unpack(\">II\", f.read(8))\n",
    "        if magic == 0x00000803:  # images\n",
    "            rows, cols = struct.unpack(\">II\", f.read(8))\n",
    "            return np.frombuffer(f.read(), dtype=np.uint8).reshape(num, rows, cols)\n",
    "        elif magic == 0x00000801:  # labels\n",
    "            return np.frombuffer(f.read(), dtype=np.uint8)\n",
    "        else:\n",
    "            raise ValueError(\"Unknown IDX file\")"
   ]
  },
  {
   "cell_type": "code",
   "execution_count": 14,
   "metadata": {},
   "outputs": [],
   "source": [
    "class MNISTRGB(Dataset):\n",
    "    def __init__(self, imgs, labels, train=True):\n",
    "        self.X = imgs.astype(np.float32) / 255.0\n",
    "        self.y = labels.astype(np.int64)\n",
    "        self.train = train\n",
    "        self.tt = ToTensor()\n",
    "    def __len__(self):  return len(self.y)\n",
    "    def __getitem__(self, idx):\n",
    "        img = self.X[idx]\n",
    "        rgb = gray2rgb(img)               # (28,28,3)\n",
    "        if self.train:\n",
    "            x = torch.tensor(rgb).permute(2,0,1)    # (3,28,28)\n",
    "            return x, self.y[idx]\n",
    "        else:\n",
    "            return rgb, self.y[idx]       # np array for LIME later"
   ]
  },
  {
   "cell_type": "markdown",
   "metadata": {},
   "source": [
    "#### Load dataset"
   ]
  },
  {
   "cell_type": "code",
   "execution_count": 15,
   "metadata": {},
   "outputs": [],
   "source": [
    "train_imgs = read_idx(Path(DATA_DIR) / \"train-images-idx3-ubyte\")\n",
    "train_lbls = read_idx(Path(DATA_DIR) / \"train-labels-idx1-ubyte\")\n",
    "test_imgs  = read_idx(Path(DATA_DIR) / \"t10k-images-idx3-ubyte\")\n",
    "test_lbls  = read_idx(Path(DATA_DIR) / \"t10k-labels-idx1-ubyte\")"
   ]
  },
  {
   "cell_type": "code",
   "execution_count": 16,
   "metadata": {},
   "outputs": [],
   "source": [
    "ds_full = MNISTRGB(train_imgs, train_lbls)\n",
    "ds_test = MNISTRGB(test_imgs, test_lbls, train=False)\n",
    "\n",
    "len_val = 5000\n",
    "ds_train, ds_val = random_split(ds_full, [len_val, len(ds_full) - len_val])\n",
    "\n",
    "dl_train = DataLoader(ds_train, batch_size=BATCH, shuffle=True)\n",
    "dl_val = DataLoader(ds_val, batch_size=BATCH, shuffle=False)\n",
    "dl_test = DataLoader([(gray2rgb(img), lbl) for img,lbl in zip(test_imgs,test_lbls)],  # keep RGB np here\n",
    "                      batch_size=1, shuffle=False)\n"
   ]
  },
  {
   "cell_type": "markdown",
   "metadata": {},
   "source": [
    "Lightweight CNN"
   ]
  },
  {
   "cell_type": "code",
   "execution_count": 17,
   "metadata": {},
   "outputs": [],
   "source": [
    "class SimpleNet(nn.Module):\n",
    "    def __init__(self):\n",
    "        super().__init__()\n",
    "        self.net = nn.Sequential(\n",
    "            nn.Conv2d(3,32,3,1,1), nn.ReLU(), nn.MaxPool2d(2),\n",
    "            nn.Conv2d(32,64,3,1,1),nn.ReLU(), nn.MaxPool2d(2),\n",
    "            nn.Flatten(),\n",
    "            nn.Linear(64*7*7,128), nn.ReLU(), nn.Dropout(0.2),\n",
    "            nn.Linear(128,10)\n",
    "        )\n",
    "    def forward(self,x): return self.net(x)\n",
    "\n",
    "model = SimpleNet().to(DEVICE)\n",
    "opt = torch.optim.Adam(model.parameters(), 1e-3)\n",
    "lossF = nn.CrossEntropyLoss()"
   ]
  },
  {
   "cell_type": "markdown",
   "metadata": {},
   "source": [
    "Training Loop"
   ]
  },
  {
   "cell_type": "code",
   "execution_count": 18,
   "metadata": {},
   "outputs": [
    {
     "name": "stderr",
     "output_type": "stream",
     "text": [
      "Epoch 1/EPOCHS: 100%|██████████| 40/40 [00:01<00:00, 20.71it/s]\n"
     ]
    },
    {
     "name": "stdout",
     "output_type": "stream",
     "text": [
      "Epoch 1, Loss: 0.2070, Val Acc: 0.8646\n"
     ]
    },
    {
     "name": "stderr",
     "output_type": "stream",
     "text": [
      "Epoch 2/EPOCHS: 100%|██████████| 40/40 [00:01<00:00, 20.96it/s]\n"
     ]
    },
    {
     "name": "stdout",
     "output_type": "stream",
     "text": [
      "Epoch 2, Loss: 0.2164, Val Acc: 0.9277\n"
     ]
    },
    {
     "name": "stderr",
     "output_type": "stream",
     "text": [
      "Epoch 3/EPOCHS: 100%|██████████| 40/40 [00:01<00:00, 21.05it/s]\n"
     ]
    },
    {
     "name": "stdout",
     "output_type": "stream",
     "text": [
      "Epoch 3, Loss: 0.3512, Val Acc: 0.9388\n"
     ]
    },
    {
     "name": "stderr",
     "output_type": "stream",
     "text": [
      "Epoch 4/EPOCHS: 100%|██████████| 40/40 [00:01<00:00, 21.12it/s]\n"
     ]
    },
    {
     "name": "stdout",
     "output_type": "stream",
     "text": [
      "Epoch 4, Loss: 0.0734, Val Acc: 0.9521\n"
     ]
    },
    {
     "name": "stderr",
     "output_type": "stream",
     "text": [
      "Epoch 5/EPOCHS: 100%|██████████| 40/40 [00:01<00:00, 20.34it/s]\n"
     ]
    },
    {
     "name": "stdout",
     "output_type": "stream",
     "text": [
      "Epoch 5, Loss: 0.0092, Val Acc: 0.9606\n"
     ]
    },
    {
     "name": "stderr",
     "output_type": "stream",
     "text": [
      "Epoch 6/EPOCHS: 100%|██████████| 40/40 [00:02<00:00, 19.88it/s]\n"
     ]
    },
    {
     "name": "stdout",
     "output_type": "stream",
     "text": [
      "Epoch 6, Loss: 0.0836, Val Acc: 0.9640\n"
     ]
    },
    {
     "name": "stderr",
     "output_type": "stream",
     "text": [
      "Epoch 7/EPOCHS: 100%|██████████| 40/40 [00:01<00:00, 20.44it/s]\n"
     ]
    },
    {
     "name": "stdout",
     "output_type": "stream",
     "text": [
      "Epoch 7, Loss: 0.1389, Val Acc: 0.9632\n"
     ]
    },
    {
     "name": "stderr",
     "output_type": "stream",
     "text": [
      "Epoch 8/EPOCHS: 100%|██████████| 40/40 [00:01<00:00, 20.32it/s]\n"
     ]
    },
    {
     "name": "stdout",
     "output_type": "stream",
     "text": [
      "Epoch 8, Loss: 0.0189, Val Acc: 0.9669\n"
     ]
    },
    {
     "name": "stderr",
     "output_type": "stream",
     "text": [
      "Epoch 9/EPOCHS: 100%|██████████| 40/40 [00:01<00:00, 20.26it/s]\n"
     ]
    },
    {
     "name": "stdout",
     "output_type": "stream",
     "text": [
      "Epoch 9, Loss: 0.0003, Val Acc: 0.9714\n"
     ]
    },
    {
     "name": "stderr",
     "output_type": "stream",
     "text": [
      "Epoch 10/EPOCHS: 100%|██████████| 40/40 [00:02<00:00, 19.86it/s]\n"
     ]
    },
    {
     "name": "stdout",
     "output_type": "stream",
     "text": [
      "Epoch 10, Loss: 0.0025, Val Acc: 0.9714\n"
     ]
    }
   ],
   "source": [
    "for epoch in range(EPOCHS):\n",
    "    model.train()\n",
    "    for xb, yb in tqdm(dl_train, desc=f\"Epoch {epoch+1}/EPOCHS\"):\n",
    "        xb, yb = xb.to(DEVICE), yb.to(DEVICE)\n",
    "        opt.zero_grad(set_to_none=True)\n",
    "        pred = model(xb)\n",
    "        loss = lossF(pred, yb)\n",
    "        loss.backward(); opt.step()\n",
    "    \n",
    "    model.eval(); correct = total = 0 \n",
    "    with torch.no_grad():\n",
    "        for xb, yb in dl_val:\n",
    "            xb, yb = xb.to(DEVICE), yb.to(DEVICE)\n",
    "            correct += (model(xb).argmax(1) == yb).sum().item()\n",
    "            total += yb.size(0)\n",
    "    print(f\"Epoch {epoch+1}, Loss: {loss.item():.4f}, Val Acc: {correct/total:.4f}\")\n",
    "    "
   ]
  },
  {
   "cell_type": "markdown",
   "metadata": {},
   "source": [
    "#### Generate one good explanation per digit"
   ]
  },
  {
   "cell_type": "code",
   "execution_count": 19,
   "metadata": {},
   "outputs": [],
   "source": [
    "explainer = LimeImageExplainer()\n",
    "examples  = {}\n",
    "model.eval()\n",
    "\n",
    "for img_t, label in dl_test:          # img_t: (1, 28, 28, 3)  uint8\n",
    "    img_t  = img_t.squeeze(0)         # (28, 28, 3) uint8\n",
    "    img_np = img_t.cpu().numpy()      \n",
    "\n",
    "    # ---- prediction path ----\n",
    "    input_tensor = (img_t.float() / 255.)      \n",
    "    input_tensor = input_tensor.permute(2,0,1) \n",
    "    input_tensor = input_tensor.unsqueeze(0).to(DEVICE)\n",
    "\n",
    "    pred = model(input_tensor).argmax(1).item()\n",
    "    true = label.item() if torch.is_tensor(label) else label\n",
    "\n",
    "    if pred == true and pred not in examples:\n",
    "        examples[pred] = img_np          # OK to keep uint8 here\n",
    "    if len(examples) == 10:\n",
    "        break"
   ]
  },
  {
   "cell_type": "code",
   "execution_count": 20,
   "metadata": {},
   "outputs": [],
   "source": [
    "def batch_predict(images_np):\n",
    "    imgs = torch.tensor(images_np.transpose((0,3,1,2))).float()\n",
    "    imgs = imgs.div(255.).to(DEVICE)     \n",
    "    with torch.no_grad():\n",
    "        logits = model(imgs)\n",
    "    return torch.softmax(logits, dim=1).cpu().numpy()"
   ]
  },
  {
   "cell_type": "markdown",
   "metadata": {},
   "source": [
    "#### Plot explanations"
   ]
  },
  {
   "cell_type": "code",
   "execution_count": 21,
   "metadata": {},
   "outputs": [
    {
     "data": {
      "application/vnd.jupyter.widget-view+json": {
       "model_id": "0ce7180eacaf4382ab4512ec14738c02",
       "version_major": 2,
       "version_minor": 0
      },
      "text/plain": [
       "  0%|          | 0/1000 [00:00<?, ?it/s]"
      ]
     },
     "metadata": {},
     "output_type": "display_data"
    },
    {
     "data": {
      "image/png": "[encoded data removed]",
      "text/plain": [
       "<Figure size 216x216 with 1 Axes>"
      ]
     },
     "metadata": {},
     "output_type": "display_data"
    },
    {
     "data": {
      "application/vnd.jupyter.widget-view+json": {
       "model_id": "b7f9956ffc2f4efeb5aaf111769c338e",
       "version_major": 2,
       "version_minor": 0
      },
      "text/plain": [
       "  0%|          | 0/1000 [00:00<?, ?it/s]"
      ]
     },
     "metadata": {},
     "output_type": "display_data"
    },
    {
     "data": {
      "image/png": "[encoded data removed]",
      "text/plain": [
       "<Figure size 216x216 with 1 Axes>"
      ]
     },
     "metadata": {},
     "output_type": "display_data"
    },
    {
     "data": {
      "application/vnd.jupyter.widget-view+json": {
       "model_id": "af9ad9900b0543b68f3467e3165fc4b5",
       "version_major": 2,
       "version_minor": 0
      },
      "text/plain": [
       "  0%|          | 0/1000 [00:00<?, ?it/s]"
      ]
     },
     "metadata": {},
     "output_type": "display_data"
    },
    {
     "data": {
      "image/png": "[encoded data removed]",
      "text/plain": [
       "<Figure size 216x216 with 1 Axes>"
      ]
     },
     "metadata": {},
     "output_type": "display_data"
    },
    {
     "data": {
      "application/vnd.jupyter.widget-view+json": {
       "model_id": "93bf0db2cdb04ee29d6e043cc23f5e69",
       "version_major": 2,
       "version_minor": 0
      },
      "text/plain": [
       "  0%|          | 0/1000 [00:00<?, ?it/s]"
      ]
     },
     "metadata": {},
     "output_type": "display_data"
    },
    {
     "data": {
      "image/png": "[encoded data removed]",
      "text/plain": [
       "<Figure size 216x216 with 1 Axes>"
      ]
     },
     "metadata": {},
     "output_type": "display_data"
    },
    {
     "data": {
      "application/vnd.jupyter.widget-view+json": {
       "model_id": "2a93cf93937d47cf9eb4dc87856b2789",
       "version_major": 2,
       "version_minor": 0
      },
      "text/plain": [
       "  0%|          | 0/1000 [00:00<?, ?it/s]"
      ]
     },
     "metadata": {},
     "output_type": "display_data"
    },
    {
     "data": {
      "image/png": "[encoded data removed]",
      "text/plain": [
       "<Figure size 216x216 with 1 Axes>"
      ]
     },
     "metadata": {},
     "output_type": "display_data"
    },
    {
     "data": {
      "application/vnd.jupyter.widget-view+json": {
       "model_id": "62fb19b82a5a4552a3d744669f37c44f",
       "version_major": 2,
       "version_minor": 0
      },
      "text/plain": [
       "  0%|          | 0/1000 [00:00<?, ?it/s]"
      ]
     },
     "metadata": {},
     "output_type": "display_data"
    },
    {
     "data": {
      "image/png": "[encoded data removed]",
      "text/plain": [
       "<Figure size 216x216 with 1 Axes>"
      ]
     },
     "metadata": {},
     "output_type": "display_data"
    },
    {
     "data": {
      "application/vnd.jupyter.widget-view+json": {
       "model_id": "9841d9359ee74d2dbbec6e0e91a5428e",
       "version_major": 2,
       "version_minor": 0
      },
      "text/plain": [
       "  0%|          | 0/1000 [00:00<?, ?it/s]"
      ]
     },
     "metadata": {},
     "output_type": "display_data"
    },
    {
     "data": {
      "image/png": "[encoded data removed]",
      "text/plain": [
       "<Figure size 216x216 with 1 Axes>"
      ]
     },
     "metadata": {},
     "output_type": "display_data"
    },
    {
     "data": {
      "application/vnd.jupyter.widget-view+json": {
       "model_id": "7c26302e7444449490542fe011f5eea0",
       "version_major": 2,
       "version_minor": 0
      },
      "text/plain": [
       "  0%|          | 0/1000 [00:00<?, ?it/s]"
      ]
     },
     "metadata": {},
     "output_type": "display_data"
    },
    {
     "data": {
      "image/png": "[encoded data removed]",
      "text/plain": [
       "<Figure size 216x216 with 1 Axes>"
      ]
     },
     "metadata": {},
     "output_type": "display_data"
    },
    {
     "data": {
      "application/vnd.jupyter.widget-view+json": {
       "model_id": "1bbd795f59af472aa4244f408b88f294",
       "version_major": 2,
       "version_minor": 0
      },
      "text/plain": [
       "  0%|          | 0/1000 [00:00<?, ?it/s]"
      ]
     },
     "metadata": {},
     "output_type": "display_data"
    },
    {
     "data": {
      "image/png": "[encoded data removed]",
      "text/plain": [
       "<Figure size 216x216 with 1 Axes>"
      ]
     },
     "metadata": {},
     "output_type": "display_data"
    },
    {
     "data": {
      "application/vnd.jupyter.widget-view+json": {
       "model_id": "dc26ca7f036e4c068235d70d2f3fa841",
       "version_major": 2,
       "version_minor": 0
      },
      "text/plain": [
       "  0%|          | 0/1000 [00:00<?, ?it/s]"
      ]
     },
     "metadata": {},
     "output_type": "display_data"
    },
    {
     "data": {
      "image/png": "[encoded data removed]",
      "text/plain": [
       "<Figure size 216x216 with 1 Axes>"
      ]
     },
     "metadata": {},
     "output_type": "display_data"
    },
    {
     "name": "stdout",
     "output_type": "stream",
     "text": [
      "\n",
      "Saved figures ➜ /Users/samihamer/Desktop/Advanced Applied AI Summer 2025/Module 2/lime_figs\n"
     ]
    }
   ],
   "source": [
    "OUT_DIR = Path(\"lime_figs\"); OUT_DIR.mkdir(exist_ok=True)\n",
    "for digit, img_np in examples.items():\n",
    "    exp = explainer.explain_instance(img_np,\n",
    "                                     classifier_fn=batch_predict,\n",
    "                                     top_labels=1,\n",
    "                                     hide_color=0,\n",
    "                                     num_samples=1000)\n",
    "    # Explanation mask for predicted class (=digit)\n",
    "    temp, mask = exp.get_image_and_mask(digit,\n",
    "                                        positive_only=True,\n",
    "                                        num_features=10,\n",
    "                                        hide_rest=False)\n",
    "    \n",
    "    fig, ax = plt.subplots(figsize=(3,3))\n",
    "    ax.imshow(mark_boundaries(temp.astype(np.uint8), mask))\n",
    "    ax.set_title(f\"LIME explanation – digit {digit}\")\n",
    "    ax.axis('off')\n",
    "    fig.tight_layout()\n",
    "    fig.savefig(OUT_DIR/f\"digit_{digit}.png\", dpi=150)\n",
    "    plt.show()\n",
    "print(f\"\\nSaved figures ➜ {OUT_DIR.resolve()}\")"
   ]
  }
 ],
 "metadata": {
  "kernelspec": {
   "display_name": "base",
   "language": "python",
   "name": "python3"
  },
  "language_info": {
   "codemirror_mode": {
    "name": "ipython",
    "version": 3
   },
   "file_extension": ".py",
   "mimetype": "text/x-python",
   "name": "python",
   "nbconvert_exporter": "python",
   "pygments_lexer": "ipython3",
   "version": "3.12.4"
  }
 },
 "nbformat": 4,
 "nbformat_minor": 4
}
